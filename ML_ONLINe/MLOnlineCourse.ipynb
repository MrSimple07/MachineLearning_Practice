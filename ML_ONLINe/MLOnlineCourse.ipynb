{
 "cells": [
  {
   "cell_type": "code",
   "execution_count": 14,
   "id": "ca6bf2f8-daeb-4004-856d-e4bd4db14439",
   "metadata": {},
   "outputs": [],
   "source": [
    "#LinearRegressionTask\n",
    "\n",
    "import pandas as pd\n",
    "import numpy as np\n",
    "from sklearn.linear_model import LinearRegression\n",
    "from sklearn.metrics import r2_score"
   ]
  },
  {
   "cell_type": "code",
   "execution_count": 2,
   "id": "d4a58b7d-9c79-4813-8b5a-8e0b6ae1929a",
   "metadata": {},
   "outputs": [
    {
     "data": {
      "text/html": [
       "<div>\n",
       "<style scoped>\n",
       "    .dataframe tbody tr th:only-of-type {\n",
       "        vertical-align: middle;\n",
       "    }\n",
       "\n",
       "    .dataframe tbody tr th {\n",
       "        vertical-align: top;\n",
       "    }\n",
       "\n",
       "    .dataframe thead th {\n",
       "        text-align: right;\n",
       "    }\n",
       "</style>\n",
       "<table border=\"1\" class=\"dataframe\">\n",
       "  <thead>\n",
       "    <tr style=\"text-align: right;\">\n",
       "      <th></th>\n",
       "      <th>id</th>\n",
       "      <th>X</th>\n",
       "      <th>Y</th>\n",
       "    </tr>\n",
       "  </thead>\n",
       "  <tbody>\n",
       "    <tr>\n",
       "      <th>0</th>\n",
       "      <td>1</td>\n",
       "      <td>16</td>\n",
       "      <td>31</td>\n",
       "    </tr>\n",
       "    <tr>\n",
       "      <th>1</th>\n",
       "      <td>2</td>\n",
       "      <td>19</td>\n",
       "      <td>38</td>\n",
       "    </tr>\n",
       "    <tr>\n",
       "      <th>2</th>\n",
       "      <td>3</td>\n",
       "      <td>20</td>\n",
       "      <td>61</td>\n",
       "    </tr>\n",
       "    <tr>\n",
       "      <th>3</th>\n",
       "      <td>4</td>\n",
       "      <td>24</td>\n",
       "      <td>70</td>\n",
       "    </tr>\n",
       "    <tr>\n",
       "      <th>4</th>\n",
       "      <td>5</td>\n",
       "      <td>1</td>\n",
       "      <td>1</td>\n",
       "    </tr>\n",
       "  </tbody>\n",
       "</table>\n",
       "</div>"
      ],
      "text/plain": [
       "   id   X   Y\n",
       "0   1  16  31\n",
       "1   2  19  38\n",
       "2   3  20  61\n",
       "3   4  24  70\n",
       "4   5   1   1"
      ]
     },
     "execution_count": 2,
     "metadata": {},
     "output_type": "execute_result"
    }
   ],
   "source": [
    "data = {\n",
    "    'id': [1, 2, 3, 4, 5, 6, 7, 8, 9, 10],\n",
    "    'X': [16, 19, 20, 24, 1, 12, 17, 23, 3, 7],\n",
    "    'Y': [31, 38, 61, 70, 1, 31, 35, 54, 10, 17]\n",
    "}\n",
    "\n",
    "df = pd.DataFrame(data)\n",
    "df.head()"
   ]
  },
  {
   "cell_type": "code",
   "execution_count": 6,
   "id": "230f2cc0-a33e-4d4d-b417-ff5a36297b6a",
   "metadata": {},
   "outputs": [
    {
     "name": "stdout",
     "output_type": "stream",
     "text": [
      "14.2\n",
      "34.8\n"
     ]
    }
   ],
   "source": [
    "sampleMeanX = df['X'].mean()\n",
    "print(sampleMeanX)\n",
    "\n",
    "sampleMeanY = df['Y'].mean()\n",
    "print(sampleMeanY)"
   ]
  },
  {
   "cell_type": "code",
   "execution_count": 13,
   "id": "3a4075ae-9fd3-4b52-bc33-07281bc5d307",
   "metadata": {},
   "outputs": [
    {
     "name": "stdout",
     "output_type": "stream",
     "text": [
      "2.57\n",
      "-1.68\n"
     ]
    }
   ],
   "source": [
    "X = df['X'].values.reshape(-1,1)\n",
    "y = df['Y'].values\n",
    "\n",
    "model = LinearRegression()\n",
    "model.fit(X,y)\n",
    "\n",
    "coef_01 = model.coef_[0]\n",
    "coef_00 = model.intercept_\n",
    "\n",
    "coef_01 = round(coef_01,2)\n",
    "coef_00 = round(coef_00,2)\n",
    "\n",
    "print(coef_01)\n",
    "print(coef_00)\n"
   ]
  },
  {
   "cell_type": "code",
   "execution_count": 15,
   "id": "ab6009ae-a85d-4eb0-8ff7-58522bb86729",
   "metadata": {},
   "outputs": [
    {
     "name": "stdout",
     "output_type": "stream",
     "text": [
      "0.9\n"
     ]
    }
   ],
   "source": [
    "r_squared = model.score(X,y)\n",
    "print(round(r_squared, 2))"
   ]
  },
  {
   "cell_type": "code",
   "execution_count": 18,
   "id": "db3c1bc1-099d-430c-99d1-8d1d2365bdce",
   "metadata": {},
   "outputs": [
    {
     "data": {
      "text/html": [
       "<div>\n",
       "<style scoped>\n",
       "    .dataframe tbody tr th:only-of-type {\n",
       "        vertical-align: middle;\n",
       "    }\n",
       "\n",
       "    .dataframe tbody tr th {\n",
       "        vertical-align: top;\n",
       "    }\n",
       "\n",
       "    .dataframe thead th {\n",
       "        text-align: right;\n",
       "    }\n",
       "</style>\n",
       "<table border=\"1\" class=\"dataframe\">\n",
       "  <thead>\n",
       "    <tr style=\"text-align: right;\">\n",
       "      <th></th>\n",
       "      <th>id</th>\n",
       "      <th>X</th>\n",
       "      <th>Y</th>\n",
       "      <th>Class</th>\n",
       "    </tr>\n",
       "  </thead>\n",
       "  <tbody>\n",
       "    <tr>\n",
       "      <th>0</th>\n",
       "      <td>1</td>\n",
       "      <td>33</td>\n",
       "      <td>71</td>\n",
       "      <td>1</td>\n",
       "    </tr>\n",
       "    <tr>\n",
       "      <th>1</th>\n",
       "      <td>2</td>\n",
       "      <td>71</td>\n",
       "      <td>86</td>\n",
       "      <td>1</td>\n",
       "    </tr>\n",
       "    <tr>\n",
       "      <th>2</th>\n",
       "      <td>3</td>\n",
       "      <td>26</td>\n",
       "      <td>30</td>\n",
       "      <td>1</td>\n",
       "    </tr>\n",
       "    <tr>\n",
       "      <th>3</th>\n",
       "      <td>4</td>\n",
       "      <td>23</td>\n",
       "      <td>30</td>\n",
       "      <td>1</td>\n",
       "    </tr>\n",
       "    <tr>\n",
       "      <th>4</th>\n",
       "      <td>5</td>\n",
       "      <td>76</td>\n",
       "      <td>21</td>\n",
       "      <td>1</td>\n",
       "    </tr>\n",
       "  </tbody>\n",
       "</table>\n",
       "</div>"
      ],
      "text/plain": [
       "   id   X   Y  Class\n",
       "0   1  33  71      1\n",
       "1   2  71  86      1\n",
       "2   3  26  30      1\n",
       "3   4  23  30      1\n",
       "4   5  76  21      1"
      ]
     },
     "execution_count": 18,
     "metadata": {},
     "output_type": "execute_result"
    }
   ],
   "source": [
    "#KNN and Naive Bayes\n",
    "import numpy as np\n",
    "import pandas as pd\n",
    "from sklearn.neighbors import KNeighborsClassifier\n",
    "data = {\n",
    "    'id': [1, 2, 3, 4, 5, 6, 7, 8, 9, 10],\n",
    "    'X': [33, 71, 26, 23, 76, 57, 36, 85, 11, 23],\n",
    "    'Y': [71, 86, 30, 30, 21, 29, 48, 64, 34, 88],\n",
    "    'Class': [1, 1, 1, 1, 1, 1, 0, 1, 0, 1]\n",
    "}\n",
    "\n",
    "data = pd.DataFrame(data)\n",
    "\n",
    "data.head()\n"
   ]
  },
  {
   "cell_type": "code",
   "execution_count": 19,
   "id": "f7b54b80-83ec-41ba-b5fd-2b0253ef4f10",
   "metadata": {},
   "outputs": [
    {
     "name": "stdout",
     "output_type": "stream",
     "text": [
      "The nearest neighbor is at coordinates [57 29] with a Euclidean distance of 19.235\n"
     ]
    }
   ],
   "source": [
    "new_object = np.array([60,48])\n",
    "\n",
    "points = np.array([\n",
    "    [33, 71],\n",
    "    [71, 86],\n",
    "    [26, 30],\n",
    "    [23, 30],\n",
    "    [76, 21],\n",
    "    [57, 29],\n",
    "    [36, 48],\n",
    "    [85, 64],\n",
    "    [11, 34],\n",
    "    [23, 88]\n",
    "])\n",
    "\n",
    "# Calculate Euclidean distances\n",
    "distances = np.sqrt(np.sum((points - new_object)**2, axis=1))\n",
    "\n",
    "# Find the index of the minimum distance\n",
    "nearest_neighbor_index = np.argmin(distances)\n",
    "\n",
    "# Get the coordinates of the nearest neighbor\n",
    "nearest_neighbor_coordinates = points[nearest_neighbor_index]\n",
    "\n",
    "# Print the result\n",
    "print(f\"The nearest neighbor is at coordinates {nearest_neighbor_coordinates} with a Euclidean distance of {distances[nearest_neighbor_index]:.3f}\")"
   ]
  },
  {
   "cell_type": "code",
   "execution_count": 20,
   "id": "0c2a9efb-16db-43f0-a313-e333aa9a7530",
   "metadata": {},
   "outputs": [
    {
     "name": "stdout",
     "output_type": "stream",
     "text": [
      "The IDs of the three nearest points are: 6, 7, 8\n"
     ]
    }
   ],
   "source": [
    "import numpy as np\n",
    "\n",
    "# Coordinates of the new object\n",
    "new_object = np.array([60, 48])\n",
    "\n",
    "# Coordinates and IDs of the given points\n",
    "points = np.array([\n",
    "    [1, 33, 71],\n",
    "    [2, 71, 86],\n",
    "    [3, 26, 30],\n",
    "    [4, 23, 30],\n",
    "    [5, 76, 21],\n",
    "    [6, 57, 29],\n",
    "    [7, 36, 48],\n",
    "    [8, 85, 64],\n",
    "    [9, 11, 34],\n",
    "    [10, 23, 88]\n",
    "])\n",
    "\n",
    "# Calculate Euclidean distances\n",
    "distances = np.sqrt(np.sum((points[:, 1:] - new_object)**2, axis=1))\n",
    "\n",
    "# Find the indices of the three minimum distances\n",
    "nearest_neighbors_indices = np.argsort(distances)[:3]\n",
    "\n",
    "# Get the IDs of the three nearest neighbors\n",
    "nearest_neighbors_ids = points[nearest_neighbors_indices, 0]\n",
    "\n",
    "# Print the result\n",
    "result_string = \", \".join(map(str, nearest_neighbors_ids))\n",
    "print(f\"The IDs of the three nearest points are: {result_string}\")\n"
   ]
  },
  {
   "cell_type": "code",
   "execution_count": 21,
   "id": "46221457-00e6-4770-97f0-dd916d02a73f",
   "metadata": {},
   "outputs": [
    {
     "name": "stdout",
     "output_type": "stream",
     "text": [
      "The predicted class for the new object is: 1\n"
     ]
    }
   ],
   "source": [
    "import numpy as np\n",
    "\n",
    "# Coordinates and classes of the given points\n",
    "points = np.array([\n",
    "    [33, 71, 1],\n",
    "    [71, 86, 1],\n",
    "    [26, 30, 1],\n",
    "    [23, 30, 1],\n",
    "    [76, 21, 1],\n",
    "    [57, 29, 1],\n",
    "    [36, 48, 0],\n",
    "    [85, 64, 1],\n",
    "    [11, 34, 0],\n",
    "    [23, 88, 1]\n",
    "])\n",
    "\n",
    "# Coordinates of the new object\n",
    "new_object = np.array([60, 48])\n",
    "\n",
    "# Calculate Euclidean distances\n",
    "distances = np.sqrt(np.sum((points[:, :2] - new_object)**2, axis=1))\n",
    "\n",
    "# Find the indices of the three minimum distances\n",
    "nearest_neighbors_indices = np.argsort(distances)[:3]\n",
    "\n",
    "# Get the classes of the three nearest neighbors\n",
    "nearest_neighbors_classes = points[nearest_neighbors_indices, 2]\n",
    "\n",
    "# Predict the class based on majority voting\n",
    "predicted_class = np.bincount(nearest_neighbors_classes).argmax()\n",
    "\n",
    "# Print the result\n",
    "print(f\"The predicted class for the new object is: {predicted_class}\")\n"
   ]
  },
  {
   "cell_type": "code",
   "execution_count": 22,
   "id": "0a9a60d8-2c2f-4ce7-86d7-9e6f5ddbd714",
   "metadata": {},
   "outputs": [
    {
     "name": "stdout",
     "output_type": "stream",
     "text": [
      "The predicted class for the new object is: 1\n"
     ]
    }
   ],
   "source": [
    "import numpy as np\n",
    "\n",
    "# Coordinates and classes of the given points\n",
    "points = np.array([\n",
    "    [33, 71, 1],\n",
    "    [71, 86, 1],\n",
    "    [26, 30, 1],\n",
    "    [23, 30, 1],\n",
    "    [76, 21, 1],\n",
    "    [57, 29, 1],\n",
    "    [36, 48, 0],\n",
    "    [85, 64, 1],\n",
    "    [11, 34, 0],\n",
    "    [23, 88, 1]\n",
    "])\n",
    "\n",
    "# Coordinates of the new object\n",
    "new_object = np.array([60, 48])\n",
    "\n",
    "# Calculate Manhattan distances\n",
    "distances = np.sum(np.abs(points[:, :2] - new_object), axis=1)\n",
    "\n",
    "# Find the indices of the three minimum distances\n",
    "nearest_neighbors_indices = np.argsort(distances)[:3]\n",
    "\n",
    "# Get the classes of the three nearest neighbors\n",
    "nearest_neighbors_classes = points[nearest_neighbors_indices, 2]\n",
    "\n",
    "# Predict the class based on majority voting\n",
    "predicted_class = np.bincount(nearest_neighbors_classes).argmax()\n",
    "\n",
    "# Print the result\n",
    "print(f\"The predicted class for the new object is: {predicted_class}\")\n"
   ]
  },
  {
   "cell_type": "code",
   "execution_count": null,
   "id": "ca75cca4-79d9-4419-8a43-201fb69ad905",
   "metadata": {},
   "outputs": [],
   "source": []
  }
 ],
 "metadata": {
  "kernelspec": {
   "display_name": "Python 3 (ipykernel)",
   "language": "python",
   "name": "python3"
  },
  "language_info": {
   "codemirror_mode": {
    "name": "ipython",
    "version": 3
   },
   "file_extension": ".py",
   "mimetype": "text/x-python",
   "name": "python",
   "nbconvert_exporter": "python",
   "pygments_lexer": "ipython3",
   "version": "3.11.3"
  }
 },
 "nbformat": 4,
 "nbformat_minor": 5
}
