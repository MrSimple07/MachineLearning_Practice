{
 "cells": [
  {
   "cell_type": "markdown",
   "metadata": {
    "id": "WBsRp9afwB_k"
   },
   "source": [
    "# Classification using decision trees"
   ]
  },
  {
   "cell_type": "markdown",
   "metadata": {
    "id": "tAHDw8MfwMCs"
   },
   "source": [
    "# Dataset description"
   ]
  },
  {
   "cell_type": "markdown",
   "metadata": {
    "id": "xIaqzMrkMZq6"
   },
   "source": [
    "In this assignment, we will look at decision trees for the classification problem, and talk about how to deal with unbalanced datasets."
   ]
  },
  {
   "cell_type": "markdown",
   "metadata": {
    "id": "C_ayFAKDMjPs"
   },
   "source": [
    "The provided dataset contains information about accepted offers on loans in **Thera-Bank**. The main customers of the bank use the bank to deposit their money in it, i.e. they are depositors. At the same time, the big profit to the bank are the creditors - people who take a loan from the bank. Therefore, the bank wants to form favorable loan offers for its depositors. The bank's campaign for depositors last year showed that the conversion rate was more than 9,6%.\n",
    "\n",
    "This prompted the marketing department to develop campaigns with improved target marketing to increase the probability of success with, of course, a minimal budget. The department would like to develop a classifier to help them identify potential customers who are more likely to purchase a loan. This would increase the probability of success while reducing the cost of the campaign."
   ]
  },
  {
   "cell_type": "markdown",
   "metadata": {
    "id": "o7DY-rDVOGoE"
   },
   "source": [
    "The dataset contains both customer information and information about their response to the previous year's campaign:\n",
    "\n",
    "*   **ID**: client ID\n",
    "\n",
    "*   **Age**: Age\n",
    "\n",
    "*   **Experience**: Work experience\n",
    "\n",
    "*   **Income**: Annual income (in thousands)\n",
    "\n",
    "*   **ZIP Code**: Residence index\n",
    "\n",
    "*   **Family**: Family size\n",
    "\n",
    "*   **CCAvg**: Average credit card spending per month (in thousands)\n",
    "\n",
    "*   **Education**: Level of education (1: Bachelor's degree, 2: Master's degree, 3: something more)\n",
    "\n",
    "*   **Mortgage**: Value of mortgage, if any (in thousands)\n",
    "\n",
    "*   **Securities Account**: Existence of a securities account\n",
    "\n",
    "*   **CD Account**: Existence of a certificate of deposit\n",
    "\n",
    "*   **Online**: Whether the client uses internet banking\n",
    "\n",
    "*   **CreditCard**: Whether the client uses a credit card issued by this bank\n",
    "\n",
    "*   **Personal Loan**: Whether the client has accepted a personalized loan offer (target feature)"
   ]
  },
  {
   "cell_type": "markdown",
   "metadata": {
    "id": "npoTXkLETgmH"
   },
   "source": [
    "# Exploratory data analysis"
   ]
  },
  {
   "cell_type": "markdown",
   "metadata": {
    "id": "8JD_Js7sBDX9"
   },
   "source": [
    "Read the dataset into a dataframe"
   ]
  },
  {
   "cell_type": "code",
   "execution_count": 1,
   "metadata": {
    "id": "N-EaF0UkMM--"
   },
   "outputs": [],
   "source": [
    "import pandas as pd\n",
    "import numpy as np\n",
    "\n",
    "df = pd.read_csv('Bank_Personal_Loan_Modelling_train.csv')"
   ]
  },
  {
   "cell_type": "markdown",
   "metadata": {
    "id": "czPRb3i9OD3E"
   },
   "source": [
    "Use the <code>.describe()</code> method to explore the dataset \"from a bird's eye view\"."
   ]
  },
  {
   "cell_type": "code",
   "execution_count": 2,
   "metadata": {
    "id": "obERUrx2MS-_"
   },
   "outputs": [
    {
     "data": {
      "text/html": [
       "<div>\n",
       "<style scoped>\n",
       "    .dataframe tbody tr th:only-of-type {\n",
       "        vertical-align: middle;\n",
       "    }\n",
       "\n",
       "    .dataframe tbody tr th {\n",
       "        vertical-align: top;\n",
       "    }\n",
       "\n",
       "    .dataframe thead th {\n",
       "        text-align: right;\n",
       "    }\n",
       "</style>\n",
       "<table border=\"1\" class=\"dataframe\">\n",
       "  <thead>\n",
       "    <tr style=\"text-align: right;\">\n",
       "      <th></th>\n",
       "      <th>ID</th>\n",
       "      <th>Age</th>\n",
       "      <th>Experience</th>\n",
       "      <th>Income</th>\n",
       "      <th>ZIP Code</th>\n",
       "      <th>Family</th>\n",
       "      <th>CCAvg</th>\n",
       "      <th>Education</th>\n",
       "      <th>Mortgage</th>\n",
       "      <th>Personal Loan</th>\n",
       "      <th>Securities Account</th>\n",
       "      <th>CD Account</th>\n",
       "      <th>Online</th>\n",
       "      <th>CreditCard</th>\n",
       "    </tr>\n",
       "  </thead>\n",
       "  <tbody>\n",
       "    <tr>\n",
       "      <th>count</th>\n",
       "      <td>4000.000000</td>\n",
       "      <td>4000.000000</td>\n",
       "      <td>4000.000000</td>\n",
       "      <td>4000.000000</td>\n",
       "      <td>4000.000000</td>\n",
       "      <td>4000.000000</td>\n",
       "      <td>4000.000000</td>\n",
       "      <td>4000.000000</td>\n",
       "      <td>4000.000000</td>\n",
       "      <td>4000.000000</td>\n",
       "      <td>4000.000000</td>\n",
       "      <td>4000.000000</td>\n",
       "      <td>4000.000000</td>\n",
       "      <td>4000.00000</td>\n",
       "    </tr>\n",
       "    <tr>\n",
       "      <th>mean</th>\n",
       "      <td>2497.682500</td>\n",
       "      <td>45.429500</td>\n",
       "      <td>20.196250</td>\n",
       "      <td>73.479750</td>\n",
       "      <td>93156.583750</td>\n",
       "      <td>2.381750</td>\n",
       "      <td>1.921805</td>\n",
       "      <td>1.881500</td>\n",
       "      <td>55.968250</td>\n",
       "      <td>0.096000</td>\n",
       "      <td>0.104000</td>\n",
       "      <td>0.061500</td>\n",
       "      <td>0.599000</td>\n",
       "      <td>0.29050</td>\n",
       "    </tr>\n",
       "    <tr>\n",
       "      <th>std</th>\n",
       "      <td>1449.723807</td>\n",
       "      <td>11.489235</td>\n",
       "      <td>11.500143</td>\n",
       "      <td>46.321345</td>\n",
       "      <td>2197.762636</td>\n",
       "      <td>1.149716</td>\n",
       "      <td>1.738974</td>\n",
       "      <td>0.842102</td>\n",
       "      <td>101.054887</td>\n",
       "      <td>0.294628</td>\n",
       "      <td>0.305299</td>\n",
       "      <td>0.240275</td>\n",
       "      <td>0.490162</td>\n",
       "      <td>0.45405</td>\n",
       "    </tr>\n",
       "    <tr>\n",
       "      <th>min</th>\n",
       "      <td>1.000000</td>\n",
       "      <td>23.000000</td>\n",
       "      <td>-3.000000</td>\n",
       "      <td>8.000000</td>\n",
       "      <td>9307.000000</td>\n",
       "      <td>1.000000</td>\n",
       "      <td>0.000000</td>\n",
       "      <td>1.000000</td>\n",
       "      <td>0.000000</td>\n",
       "      <td>0.000000</td>\n",
       "      <td>0.000000</td>\n",
       "      <td>0.000000</td>\n",
       "      <td>0.000000</td>\n",
       "      <td>0.00000</td>\n",
       "    </tr>\n",
       "    <tr>\n",
       "      <th>25%</th>\n",
       "      <td>1245.750000</td>\n",
       "      <td>35.000000</td>\n",
       "      <td>10.000000</td>\n",
       "      <td>38.000000</td>\n",
       "      <td>91941.750000</td>\n",
       "      <td>1.000000</td>\n",
       "      <td>0.700000</td>\n",
       "      <td>1.000000</td>\n",
       "      <td>0.000000</td>\n",
       "      <td>0.000000</td>\n",
       "      <td>0.000000</td>\n",
       "      <td>0.000000</td>\n",
       "      <td>0.000000</td>\n",
       "      <td>0.00000</td>\n",
       "    </tr>\n",
       "    <tr>\n",
       "      <th>50%</th>\n",
       "      <td>2492.500000</td>\n",
       "      <td>45.000000</td>\n",
       "      <td>20.000000</td>\n",
       "      <td>63.000000</td>\n",
       "      <td>93407.000000</td>\n",
       "      <td>2.000000</td>\n",
       "      <td>1.500000</td>\n",
       "      <td>2.000000</td>\n",
       "      <td>0.000000</td>\n",
       "      <td>0.000000</td>\n",
       "      <td>0.000000</td>\n",
       "      <td>0.000000</td>\n",
       "      <td>1.000000</td>\n",
       "      <td>0.00000</td>\n",
       "    </tr>\n",
       "    <tr>\n",
       "      <th>75%</th>\n",
       "      <td>3767.250000</td>\n",
       "      <td>55.000000</td>\n",
       "      <td>30.000000</td>\n",
       "      <td>98.000000</td>\n",
       "      <td>94608.000000</td>\n",
       "      <td>3.000000</td>\n",
       "      <td>2.500000</td>\n",
       "      <td>3.000000</td>\n",
       "      <td>100.000000</td>\n",
       "      <td>0.000000</td>\n",
       "      <td>0.000000</td>\n",
       "      <td>0.000000</td>\n",
       "      <td>1.000000</td>\n",
       "      <td>1.00000</td>\n",
       "    </tr>\n",
       "    <tr>\n",
       "      <th>max</th>\n",
       "      <td>5000.000000</td>\n",
       "      <td>67.000000</td>\n",
       "      <td>43.000000</td>\n",
       "      <td>224.000000</td>\n",
       "      <td>96651.000000</td>\n",
       "      <td>4.000000</td>\n",
       "      <td>10.000000</td>\n",
       "      <td>3.000000</td>\n",
       "      <td>635.000000</td>\n",
       "      <td>1.000000</td>\n",
       "      <td>1.000000</td>\n",
       "      <td>1.000000</td>\n",
       "      <td>1.000000</td>\n",
       "      <td>1.00000</td>\n",
       "    </tr>\n",
       "  </tbody>\n",
       "</table>\n",
       "</div>"
      ],
      "text/plain": [
       "                ID          Age   Experience       Income      ZIP Code  \\\n",
       "count  4000.000000  4000.000000  4000.000000  4000.000000   4000.000000   \n",
       "mean   2497.682500    45.429500    20.196250    73.479750  93156.583750   \n",
       "std    1449.723807    11.489235    11.500143    46.321345   2197.762636   \n",
       "min       1.000000    23.000000    -3.000000     8.000000   9307.000000   \n",
       "25%    1245.750000    35.000000    10.000000    38.000000  91941.750000   \n",
       "50%    2492.500000    45.000000    20.000000    63.000000  93407.000000   \n",
       "75%    3767.250000    55.000000    30.000000    98.000000  94608.000000   \n",
       "max    5000.000000    67.000000    43.000000   224.000000  96651.000000   \n",
       "\n",
       "            Family        CCAvg    Education     Mortgage  Personal Loan  \\\n",
       "count  4000.000000  4000.000000  4000.000000  4000.000000    4000.000000   \n",
       "mean      2.381750     1.921805     1.881500    55.968250       0.096000   \n",
       "std       1.149716     1.738974     0.842102   101.054887       0.294628   \n",
       "min       1.000000     0.000000     1.000000     0.000000       0.000000   \n",
       "25%       1.000000     0.700000     1.000000     0.000000       0.000000   \n",
       "50%       2.000000     1.500000     2.000000     0.000000       0.000000   \n",
       "75%       3.000000     2.500000     3.000000   100.000000       0.000000   \n",
       "max       4.000000    10.000000     3.000000   635.000000       1.000000   \n",
       "\n",
       "       Securities Account   CD Account       Online  CreditCard  \n",
       "count         4000.000000  4000.000000  4000.000000  4000.00000  \n",
       "mean             0.104000     0.061500     0.599000     0.29050  \n",
       "std              0.305299     0.240275     0.490162     0.45405  \n",
       "min              0.000000     0.000000     0.000000     0.00000  \n",
       "25%              0.000000     0.000000     0.000000     0.00000  \n",
       "50%              0.000000     0.000000     1.000000     0.00000  \n",
       "75%              0.000000     0.000000     1.000000     1.00000  \n",
       "max              1.000000     1.000000     1.000000     1.00000  "
      ]
     },
     "execution_count": 2,
     "metadata": {},
     "output_type": "execute_result"
    }
   ],
   "source": [
    "df.describe()"
   ]
  },
  {
   "cell_type": "markdown",
   "metadata": {
    "id": "57sZel7LPRzB"
   },
   "source": [
    "The dataset contains 14 features, 1 of which is the target feature.\n",
    "\n",
    "1 nominal feature: **ID**\n",
    "\n",
    "5 numeric features: **Age**, **Experience**, **Income**, **CCAvg**, **Mortgage**\n",
    "\n",
    "3 categorical features: **Family**, **Education**, **ZIP Code**\n",
    "\n",
    "5 boolean features: **Personal Loan**, **Securities Account**, **CD Account**, **Online**, **CreditCard**\n",
    "\n",
    "There are no missing values.\n",
    "\n",
    "Experience contains some negative values."
   ]
  },
  {
   "cell_type": "markdown",
   "metadata": {
    "id": "4Wl4T4lDyKAK"
   },
   "source": [
    "Remove the ID column, we won't need it."
   ]
  },
  {
   "cell_type": "code",
   "execution_count": 3,
   "metadata": {
    "id": "B3Wj00WZQiID"
   },
   "outputs": [
    {
     "data": {
      "text/html": [
       "<div>\n",
       "<style scoped>\n",
       "    .dataframe tbody tr th:only-of-type {\n",
       "        vertical-align: middle;\n",
       "    }\n",
       "\n",
       "    .dataframe tbody tr th {\n",
       "        vertical-align: top;\n",
       "    }\n",
       "\n",
       "    .dataframe thead th {\n",
       "        text-align: right;\n",
       "    }\n",
       "</style>\n",
       "<table border=\"1\" class=\"dataframe\">\n",
       "  <thead>\n",
       "    <tr style=\"text-align: right;\">\n",
       "      <th></th>\n",
       "      <th>Age</th>\n",
       "      <th>Experience</th>\n",
       "      <th>Income</th>\n",
       "      <th>ZIP Code</th>\n",
       "      <th>Family</th>\n",
       "      <th>CCAvg</th>\n",
       "      <th>Education</th>\n",
       "      <th>Mortgage</th>\n",
       "      <th>Personal Loan</th>\n",
       "      <th>Securities Account</th>\n",
       "      <th>CD Account</th>\n",
       "      <th>Online</th>\n",
       "      <th>CreditCard</th>\n",
       "    </tr>\n",
       "  </thead>\n",
       "  <tbody>\n",
       "    <tr>\n",
       "      <th>0</th>\n",
       "      <td>60</td>\n",
       "      <td>36</td>\n",
       "      <td>89</td>\n",
       "      <td>91745</td>\n",
       "      <td>2</td>\n",
       "      <td>2.8</td>\n",
       "      <td>1</td>\n",
       "      <td>0</td>\n",
       "      <td>0</td>\n",
       "      <td>0</td>\n",
       "      <td>0</td>\n",
       "      <td>1</td>\n",
       "      <td>0</td>\n",
       "    </tr>\n",
       "    <tr>\n",
       "      <th>1</th>\n",
       "      <td>44</td>\n",
       "      <td>19</td>\n",
       "      <td>30</td>\n",
       "      <td>91423</td>\n",
       "      <td>1</td>\n",
       "      <td>0.5</td>\n",
       "      <td>3</td>\n",
       "      <td>0</td>\n",
       "      <td>0</td>\n",
       "      <td>0</td>\n",
       "      <td>0</td>\n",
       "      <td>1</td>\n",
       "      <td>0</td>\n",
       "    </tr>\n",
       "    <tr>\n",
       "      <th>2</th>\n",
       "      <td>26</td>\n",
       "      <td>0</td>\n",
       "      <td>19</td>\n",
       "      <td>93014</td>\n",
       "      <td>1</td>\n",
       "      <td>0.1</td>\n",
       "      <td>2</td>\n",
       "      <td>121</td>\n",
       "      <td>0</td>\n",
       "      <td>0</td>\n",
       "      <td>0</td>\n",
       "      <td>1</td>\n",
       "      <td>0</td>\n",
       "    </tr>\n",
       "    <tr>\n",
       "      <th>3</th>\n",
       "      <td>34</td>\n",
       "      <td>9</td>\n",
       "      <td>41</td>\n",
       "      <td>92101</td>\n",
       "      <td>2</td>\n",
       "      <td>0.1</td>\n",
       "      <td>1</td>\n",
       "      <td>161</td>\n",
       "      <td>0</td>\n",
       "      <td>0</td>\n",
       "      <td>0</td>\n",
       "      <td>1</td>\n",
       "      <td>1</td>\n",
       "    </tr>\n",
       "    <tr>\n",
       "      <th>4</th>\n",
       "      <td>56</td>\n",
       "      <td>32</td>\n",
       "      <td>51</td>\n",
       "      <td>92780</td>\n",
       "      <td>4</td>\n",
       "      <td>1.5</td>\n",
       "      <td>1</td>\n",
       "      <td>0</td>\n",
       "      <td>0</td>\n",
       "      <td>0</td>\n",
       "      <td>0</td>\n",
       "      <td>0</td>\n",
       "      <td>0</td>\n",
       "    </tr>\n",
       "  </tbody>\n",
       "</table>\n",
       "</div>"
      ],
      "text/plain": [
       "   Age  Experience  Income  ZIP Code  Family  CCAvg  Education  Mortgage  \\\n",
       "0   60          36      89     91745       2    2.8          1         0   \n",
       "1   44          19      30     91423       1    0.5          3         0   \n",
       "2   26           0      19     93014       1    0.1          2       121   \n",
       "3   34           9      41     92101       2    0.1          1       161   \n",
       "4   56          32      51     92780       4    1.5          1         0   \n",
       "\n",
       "   Personal Loan  Securities Account  CD Account  Online  CreditCard  \n",
       "0              0                   0           0       1           0  \n",
       "1              0                   0           0       1           0  \n",
       "2              0                   0           0       1           0  \n",
       "3              0                   0           0       1           1  \n",
       "4              0                   0           0       0           0  "
      ]
     },
     "execution_count": 3,
     "metadata": {},
     "output_type": "execute_result"
    }
   ],
   "source": [
    "random_state = 9\n",
    "\n",
    "df= df.drop(['ID'], axis = 1)\n",
    "df.head()"
   ]
  },
  {
   "cell_type": "markdown",
   "metadata": {
    "id": "8_S0yiCEQvbC"
   },
   "source": [
    "It makes sense to try to catch any correlations or lack thereof.\n",
    "\n",
    "Build a correlation matrix."
   ]
  },
  {
   "cell_type": "code",
   "execution_count": 6,
   "metadata": {
    "id": "JGrHybCnQ0q1"
   },
   "outputs": [
    {
     "data": {
      "image/png": "[encoded data removed]",
      "text/plain": [
       "<Figure size 1200x700 with 2 Axes>"
      ]
     },
     "metadata": {},
     "output_type": "display_data"
    }
   ],
   "source": [
    "import matplotlib.pyplot as plt\n",
    "import seaborn as sns\n",
    "\n",
    "fig, ax = plt.subplots(figsize = (12,7))\n",
    "sns.heatmap(df.corr(), annot = True)\n",
    "\n",
    "plt.show()"
   ]
  },
  {
   "cell_type": "markdown",
   "metadata": {
    "id": "33KxJRptS_wP"
   },
   "source": [
    "Identify the two most correlated features."
   ]
  },
  {
   "cell_type": "code",
   "execution_count": 7,
   "metadata": {
    "id": "Xo1LgkW5ysoc"
   },
   "outputs": [
    {
     "name": "stdout",
     "output_type": "stream",
     "text": [
      "Age, Experience\n"
     ]
    }
   ],
   "source": [
    "print('Age, Experience')"
   ]
  },
  {
   "cell_type": "markdown",
   "metadata": {
    "id": "MIAngsDe2ppM"
   },
   "source": [
    "Identify the feature that is least correlated (almost uncorrelated) with the other features (including target). Remove this feature from consideration.\n",
    "\n",
    "Enter the name of the removed feature."
   ]
  },
  {
   "cell_type": "code",
   "execution_count": 8,
   "metadata": {
    "id": "bqOQ1cVk27fb"
   },
   "outputs": [],
   "source": [
    "df = df.drop(['ZIP Code'], axis =1)"
   ]
  },
  {
   "cell_type": "markdown",
   "metadata": {
    "id": "1T2nmzIqTleQ"
   },
   "source": [
    "# Preliminary data preparation"
   ]
  },
  {
   "cell_type": "markdown",
   "metadata": {
    "id": "owfKqPFi3JRb"
   },
   "source": [
    "## Feature modification"
   ]
  },
  {
   "cell_type": "markdown",
   "metadata": {
    "id": "mKAYY8dmX2v1"
   },
   "source": [
    "It is worth dealing with the <code>Experience</code> feature. You can see that experience correlates with age. However, there are negative values in the <code>Experience</code> column. It makes sense to \"shift\" the values in this column. Add the same number to all values in the <code>Experience</code> column so that the minimum value is equal to $0$.\n",
    "\n",
    "Calculate the sample mean of the <code>Experience</code> column after transformation."
   ]
  },
  {
   "cell_type": "code",
   "execution_count": 9,
   "metadata": {
    "id": "HacXjLu6X_FU"
   },
   "outputs": [
    {
     "name": "stdout",
     "output_type": "stream",
     "text": [
      "23.19625\n"
     ]
    }
   ],
   "source": [
    "import numpy as np\n",
    "df['Experience']+=3\n",
    "\n",
    "print(df['Experience'].mean())"
   ]
  },
  {
   "cell_type": "markdown",
   "metadata": {
    "id": "0CPdKkpIb9Ko"
   },
   "source": [
    "Similarly, it makes sense to modify the <code>CCAvg</code> feature. Since the annual income is considered, the value of spending should be considered for the whole year.\n",
    "\n",
    "Calculate the sample mean of the <code>CCAvg</code> column after transformation."
   ]
  },
  {
   "cell_type": "code",
   "execution_count": 10,
   "metadata": {
    "id": "cE_wPGDeb7_J"
   },
   "outputs": [],
   "source": [
    "df['CCAvg'] *=12"
   ]
  },
  {
   "cell_type": "markdown",
   "metadata": {
    "id": "sck74wTfdwXF"
   },
   "source": [
    "## Determining outliers"
   ]
  },
  {
   "cell_type": "markdown",
   "metadata": {
    "id": "_3rpqkJp3xY_"
   },
   "source": [
    "Construct boxplots for all predictors. We recommend using the <code>sns.boxplot()</code>. Identify the feature from the boxplot image in your individual assignment."
   ]
  },
  {
   "cell_type": "code",
   "execution_count": null,
   "metadata": {
    "id": "dqDNlzX3oKbT"
   },
   "outputs": [],
   "source": [
    "# < ENTER YOUR CODE HERE > "
   ]
  },
  {
   "cell_type": "markdown",
   "metadata": {
    "id": "fv2fr5pLRU54"
   },
   "source": [
    "Identify the feature containing the largest number of outliers. Enter the name of the feature."
   ]
  },
  {
   "cell_type": "code",
   "execution_count": null,
   "metadata": {
    "id": "mTJhkJZyzeoy"
   },
   "outputs": [],
   "source": [
    "# < ENTER YOUR CODE HERE > "
   ]
  },
  {
   "cell_type": "markdown",
   "metadata": {
    "id": "3YYxjhcmzfFB"
   },
   "source": [
    "It makes sense to work with this feature. For this purpose, the following statistical considerations can be used. If you subtract the sample mean from the data, and then divided by the standard deviation, then, using the $68-95-99.7$ rule under the assumption of normality of distribution, we can discard the tails that are too far from zero.\n",
    "Construct a histogram of the distribution of values within this feature."
   ]
  },
  {
   "cell_type": "code",
   "execution_count": null,
   "metadata": {
    "id": "5dHRr6YD0U5U"
   },
   "outputs": [],
   "source": [
    "# < ENTER YOUR CODE HERE > "
   ]
  },
  {
   "cell_type": "markdown",
   "metadata": {
    "id": "A1PjJGciS0JL"
   },
   "source": [
    "Obviously, among the values of this feature there are a small number of values that lie \"far away from the trend\". We can use <a href=\"https://docs.scipy.org/doc/scipy/reference/generated/scipy.stats.zscore.html\"><code>z-score</code></a> function from the <code>scipy</code> library.\n",
    "\n",
    "Recalling the course of probability theory, it becomes clear that about $99.7\\%$ of the normal distribution will be contained in the interval $[-3\\sigma, 3\\sigma]$. Determine the number of elements whose modulus of <code>z-score</code> is greater than $3$. "
   ]
  },
  {
   "cell_type": "code",
   "execution_count": null,
   "metadata": {
    "id": "IAqVmGrDRq7J"
   },
   "outputs": [],
   "source": [
    "# < ENTER YOUR CODE HERE > "
   ]
  },
  {
   "cell_type": "markdown",
   "metadata": {
    "id": "tUhbuuVkmG44"
   },
   "source": [
    "So, there are not very many outliers, so they can simply be discarded from the provided dataset. Enter the remaining number of rows in the dataset."
   ]
  },
  {
   "cell_type": "code",
   "execution_count": null,
   "metadata": {
    "id": "BWLLchbGmKyx"
   },
   "outputs": [],
   "source": [
    "# < ENTER YOUR CODE HERE > "
   ]
  },
  {
   "cell_type": "markdown",
   "metadata": {
    "id": "hMJ3LQA62_z7"
   },
   "source": [
    "# Model building"
   ]
  },
  {
   "cell_type": "markdown",
   "metadata": {
    "id": "YraRCGS33aCP"
   },
   "source": [
    "# Basic algorithm"
   ]
  },
  {
   "cell_type": "markdown",
   "metadata": {
    "id": "-tN2AKL6myfS"
   },
   "source": [
    "Use <code>train_test_split</code> to split the dataset into training and test samples with the parameters from your individual assignment."
   ]
  },
  {
   "cell_type": "code",
   "execution_count": 12,
   "metadata": {
    "id": "y1YG3JZ9oDMI"
   },
   "outputs": [],
   "source": [
    "from sklearn.model_selection import train_test_split\n",
    "\n",
    "random_state = 9\n",
    "\n",
    "X_train, X_test, y_train, y_test = train_test_split(\n",
    "    df.drop('Personal Loan', axis = 1), df['Personal Loan'], test_size = 0.2,\n",
    "    random_state = random_state, stratify = df['Personal Loan']\n",
    ")"
   ]
  },
  {
   "cell_type": "markdown",
   "metadata": {
    "id": "0NyWOkh13iNC"
   },
   "source": [
    "Train the <code>DecisionTreeClassifier</code> model on the training dataset with the parameters from your individual assignment. Compute <code>f1_score</code> of the model on test dataset."
   ]
  },
  {
   "cell_type": "code",
   "execution_count": 43,
   "metadata": {
    "id": "BJNg02bbaJj2"
   },
   "outputs": [
    {
     "name": "stdout",
     "output_type": "stream",
     "text": [
      "0.8552631578947368\n",
      "0.855\n"
     ]
    }
   ],
   "source": [
    "from sklearn.tree import DecisionTreeClassifier\n",
    "from sklearn.metrics import f1_score\n",
    "from sklearn.metrics import confusion_matrix\n",
    "\n",
    "dtc = DecisionTreeClassifier(random_state = 9, criterion = 'gini')\n",
    "dtc.fit(X_train, y_train)\n",
    "\n",
    "f1 = f1_score(y_test, dtc.predict(X_test))\n",
    "\n",
    "print(f1_score(y_test, dtc.predict(X_test)))\n",
    "print(round(f1, 3))"
   ]
  },
  {
   "cell_type": "code",
   "execution_count": 44,
   "metadata": {
    "id": "BJNg02bbaJj2"
   },
   "outputs": [
    {
     "name": "stdout",
     "output_type": "stream",
     "text": [
      "0.8875\n"
     ]
    }
   ],
   "source": [
    "#dtc with Entropy\n",
    "\n",
    "dtc = DecisionTreeClassifier(random_state = random_state, criterion = 'entropy').fit(X_train, y_train)\n",
    "\n",
    "print(f1_score(y_test, dtc.predict(X_test)))"
   ]
  },
  {
   "cell_type": "markdown",
   "metadata": {
    "id": "nz9iFfBK4KhL"
   },
   "source": [
    "## Consideration of class ratio imbalance"
   ]
  },
  {
   "cell_type": "markdown",
   "metadata": {
    "id": "3x7OGwQwa8V6"
   },
   "source": [
    "And now, if we remember that the dataset is unbalanced, we can specify an additional parameter <code>class_weight</code>. Train the <code>DecisionTreeClassifier</code> model on the training dataset with the parameters from your individual assignment. Compute <code>f1_score</code> of the model on test dataset."
   ]
  },
  {
   "cell_type": "code",
   "execution_count": 42,
   "metadata": {
    "id": "gug5fOXAbMC6"
   },
   "outputs": [
    {
     "name": "stdout",
     "output_type": "stream",
     "text": [
      "0.8903225806451613\n",
      "0.9032258064516129\n"
     ]
    }
   ],
   "source": [
    "dtc = DecisionTreeClassifier(random_state = random_state, criterion = 'gini', class_weight = 'balanced').fit(X_train, y_train)\n",
    "\n",
    "print(f1_score(y_test, dtc.predict(X_test)))\n",
    "\n",
    "dtc = DecisionTreeClassifier(random_state = random_state, criterion = 'entropy', class_weight = 'balanced').fit(X_train, y_train)\n",
    "\n",
    "print(f1_score(y_test, dtc.predict(X_test)))"
   ]
  },
  {
   "cell_type": "markdown",
   "metadata": {
    "id": "8UgBmYo44pDE"
   },
   "source": [
    "## Upsampling of training dataset"
   ]
  },
  {
   "cell_type": "markdown",
   "metadata": {
    "id": "r5SQS_D0baaQ"
   },
   "source": [
    "In addition to the obvious assignment of weights to unbalanced classes, we can use the algorithm <code>SMOTE</code>. It receives instances of all classes with their labels as input, and in turn tries to extrapolate the data distribution of that class itself based on them. It then samples new class objects until the number of objects of each class is the same.\n",
    "\n",
    "It turns out that in this case a balanced sample will be obtained, and there will be no need to fiddle with weights and so on. \n",
    "\n",
    "Determine the proportion of elements of class $0$ of the training dataset."
   ]
  },
  {
   "cell_type": "code",
   "execution_count": 19,
   "metadata": {
    "id": "nOv98H3_ei8Z"
   },
   "outputs": [
    {
     "name": "stdout",
     "output_type": "stream",
     "text": [
      "0.9040625\n"
     ]
    }
   ],
   "source": [
    "print((y_train == 0).sum()/ ((y_train ==0).sum() + (y_train ==1).sum()))"
   ]
  },
  {
   "cell_type": "markdown",
   "metadata": {
    "id": "DUrm8j5R6-dq"
   },
   "source": [
    "Using the <a href=\"https://imbalanced-learn.org/stable/references/generated/imblearn.over_sampling.SMOTE.html\"><code>SMOTE</code></a> class from the <code>imblearn.over_sampling</code> module, balance the training dataset with the parameters from your individual assignment."
   ]
  },
  {
   "cell_type": "code",
   "execution_count": 37,
   "metadata": {
    "id": "YWr1Mll1eYcd"
   },
   "outputs": [
    {
     "data": {
      "text/html": [
       "<div>\n",
       "<style scoped>\n",
       "    .dataframe tbody tr th:only-of-type {\n",
       "        vertical-align: middle;\n",
       "    }\n",
       "\n",
       "    .dataframe tbody tr th {\n",
       "        vertical-align: top;\n",
       "    }\n",
       "\n",
       "    .dataframe thead th {\n",
       "        text-align: right;\n",
       "    }\n",
       "</style>\n",
       "<table border=\"1\" class=\"dataframe\">\n",
       "  <thead>\n",
       "    <tr style=\"text-align: right;\">\n",
       "      <th></th>\n",
       "      <th>Age</th>\n",
       "      <th>Experience</th>\n",
       "      <th>Income</th>\n",
       "      <th>Family</th>\n",
       "      <th>CCAvg</th>\n",
       "      <th>Education</th>\n",
       "      <th>Mortgage</th>\n",
       "      <th>Securities Account</th>\n",
       "      <th>CD Account</th>\n",
       "      <th>Online</th>\n",
       "      <th>CreditCard</th>\n",
       "    </tr>\n",
       "  </thead>\n",
       "  <tbody>\n",
       "    <tr>\n",
       "      <th>1471</th>\n",
       "      <td>30</td>\n",
       "      <td>8</td>\n",
       "      <td>171</td>\n",
       "      <td>2</td>\n",
       "      <td>22.8</td>\n",
       "      <td>2</td>\n",
       "      <td>0</td>\n",
       "      <td>0</td>\n",
       "      <td>0</td>\n",
       "      <td>0</td>\n",
       "      <td>0</td>\n",
       "    </tr>\n",
       "    <tr>\n",
       "      <th>3447</th>\n",
       "      <td>56</td>\n",
       "      <td>35</td>\n",
       "      <td>98</td>\n",
       "      <td>3</td>\n",
       "      <td>46.8</td>\n",
       "      <td>3</td>\n",
       "      <td>0</td>\n",
       "      <td>0</td>\n",
       "      <td>0</td>\n",
       "      <td>0</td>\n",
       "      <td>0</td>\n",
       "    </tr>\n",
       "    <tr>\n",
       "      <th>260</th>\n",
       "      <td>38</td>\n",
       "      <td>17</td>\n",
       "      <td>35</td>\n",
       "      <td>1</td>\n",
       "      <td>18.0</td>\n",
       "      <td>2</td>\n",
       "      <td>97</td>\n",
       "      <td>0</td>\n",
       "      <td>0</td>\n",
       "      <td>1</td>\n",
       "      <td>0</td>\n",
       "    </tr>\n",
       "    <tr>\n",
       "      <th>228</th>\n",
       "      <td>31</td>\n",
       "      <td>10</td>\n",
       "      <td>31</td>\n",
       "      <td>4</td>\n",
       "      <td>4.8</td>\n",
       "      <td>2</td>\n",
       "      <td>79</td>\n",
       "      <td>0</td>\n",
       "      <td>0</td>\n",
       "      <td>0</td>\n",
       "      <td>0</td>\n",
       "    </tr>\n",
       "    <tr>\n",
       "      <th>3584</th>\n",
       "      <td>30</td>\n",
       "      <td>7</td>\n",
       "      <td>113</td>\n",
       "      <td>2</td>\n",
       "      <td>2.4</td>\n",
       "      <td>1</td>\n",
       "      <td>0</td>\n",
       "      <td>0</td>\n",
       "      <td>0</td>\n",
       "      <td>1</td>\n",
       "      <td>0</td>\n",
       "    </tr>\n",
       "    <tr>\n",
       "      <th>...</th>\n",
       "      <td>...</td>\n",
       "      <td>...</td>\n",
       "      <td>...</td>\n",
       "      <td>...</td>\n",
       "      <td>...</td>\n",
       "      <td>...</td>\n",
       "      <td>...</td>\n",
       "      <td>...</td>\n",
       "      <td>...</td>\n",
       "      <td>...</td>\n",
       "      <td>...</td>\n",
       "    </tr>\n",
       "    <tr>\n",
       "      <th>2407</th>\n",
       "      <td>42</td>\n",
       "      <td>20</td>\n",
       "      <td>111</td>\n",
       "      <td>3</td>\n",
       "      <td>36.0</td>\n",
       "      <td>1</td>\n",
       "      <td>0</td>\n",
       "      <td>1</td>\n",
       "      <td>1</td>\n",
       "      <td>0</td>\n",
       "      <td>1</td>\n",
       "    </tr>\n",
       "    <tr>\n",
       "      <th>946</th>\n",
       "      <td>31</td>\n",
       "      <td>7</td>\n",
       "      <td>41</td>\n",
       "      <td>1</td>\n",
       "      <td>24.0</td>\n",
       "      <td>2</td>\n",
       "      <td>0</td>\n",
       "      <td>1</td>\n",
       "      <td>0</td>\n",
       "      <td>1</td>\n",
       "      <td>0</td>\n",
       "    </tr>\n",
       "    <tr>\n",
       "      <th>3153</th>\n",
       "      <td>39</td>\n",
       "      <td>18</td>\n",
       "      <td>45</td>\n",
       "      <td>1</td>\n",
       "      <td>8.4</td>\n",
       "      <td>1</td>\n",
       "      <td>0</td>\n",
       "      <td>0</td>\n",
       "      <td>0</td>\n",
       "      <td>1</td>\n",
       "      <td>0</td>\n",
       "    </tr>\n",
       "    <tr>\n",
       "      <th>169</th>\n",
       "      <td>48</td>\n",
       "      <td>26</td>\n",
       "      <td>168</td>\n",
       "      <td>2</td>\n",
       "      <td>33.6</td>\n",
       "      <td>1</td>\n",
       "      <td>308</td>\n",
       "      <td>0</td>\n",
       "      <td>0</td>\n",
       "      <td>1</td>\n",
       "      <td>0</td>\n",
       "    </tr>\n",
       "    <tr>\n",
       "      <th>2932</th>\n",
       "      <td>46</td>\n",
       "      <td>23</td>\n",
       "      <td>74</td>\n",
       "      <td>3</td>\n",
       "      <td>8.4</td>\n",
       "      <td>2</td>\n",
       "      <td>0</td>\n",
       "      <td>0</td>\n",
       "      <td>0</td>\n",
       "      <td>1</td>\n",
       "      <td>1</td>\n",
       "    </tr>\n",
       "  </tbody>\n",
       "</table>\n",
       "<p>3200 rows × 11 columns</p>\n",
       "</div>"
      ],
      "text/plain": [
       "      Age  Experience  Income  Family  CCAvg  Education  Mortgage  \\\n",
       "1471   30           8     171       2   22.8          2         0   \n",
       "3447   56          35      98       3   46.8          3         0   \n",
       "260    38          17      35       1   18.0          2        97   \n",
       "228    31          10      31       4    4.8          2        79   \n",
       "3584   30           7     113       2    2.4          1         0   \n",
       "...   ...         ...     ...     ...    ...        ...       ...   \n",
       "2407   42          20     111       3   36.0          1         0   \n",
       "946    31           7      41       1   24.0          2         0   \n",
       "3153   39          18      45       1    8.4          1         0   \n",
       "169    48          26     168       2   33.6          1       308   \n",
       "2932   46          23      74       3    8.4          2         0   \n",
       "\n",
       "      Securities Account  CD Account  Online  CreditCard  \n",
       "1471                   0           0       0           0  \n",
       "3447                   0           0       0           0  \n",
       "260                    0           0       1           0  \n",
       "228                    0           0       0           0  \n",
       "3584                   0           0       1           0  \n",
       "...                  ...         ...     ...         ...  \n",
       "2407                   1           1       0           1  \n",
       "946                    1           0       1           0  \n",
       "3153                   0           0       1           0  \n",
       "169                    0           0       1           0  \n",
       "2932                   0           0       1           1  \n",
       "\n",
       "[3200 rows x 11 columns]"
      ]
     },
     "execution_count": 37,
     "metadata": {},
     "output_type": "execute_result"
    }
   ],
   "source": [
    "from imblearn.over_sampling import SMOTE\n",
    "\n",
    "X_train_res, y_train_res = SMOTE(random_state = 9).fit_resample(X_train, y_train)\n",
    "X_train"
   ]
  },
  {
   "cell_type": "markdown",
   "metadata": {
    "id": "4xd6pDvt9Yxj"
   },
   "source": [
    "Make sure that the dataset now contains the same number of representatives of both classes.\n",
    "\n",
    "Enter the number of objects of class $1$ of the training dataset after the upsampling."
   ]
  },
  {
   "cell_type": "code",
   "execution_count": 38,
   "metadata": {
    "id": "lASmMyIee9FB"
   },
   "outputs": [
    {
     "name": "stdout",
     "output_type": "stream",
     "text": [
      "2893\n"
     ]
    }
   ],
   "source": [
    "print((y_train_res == 1).sum())"
   ]
  },
  {
   "cell_type": "markdown",
   "metadata": {
    "id": "-7M3ua0zfCl5"
   },
   "source": [
    "Re-train the <code>DecisionTreeClassifier</code> model on the training dataset with the parameters from your individual assignment. Compute <code>f1_score</code> of the model on test dataset."
   ]
  },
  {
   "cell_type": "code",
   "execution_count": 41,
   "metadata": {
    "id": "3J1YZg6ufFxo"
   },
   "outputs": [
    {
     "name": "stdout",
     "output_type": "stream",
     "text": [
      "0.8711656441717791\n",
      "0.8658536585365854\n"
     ]
    }
   ],
   "source": [
    "dtc = DecisionTreeClassifier(random_state = 9).fit(X_train_res, y_train_res)\n",
    "\n",
    "print(f1_score(y_test, dtc.predict(X_test)))\n",
    "\n",
    "dtc = DecisionTreeClassifier(random_state = 9, criterion = 'entropy').fit(X_train_res, y_train_res)\n",
    "\n",
    "print(f1_score(y_test, dtc.predict(X_test)))"
   ]
  },
  {
   "cell_type": "code",
   "execution_count": null,
   "metadata": {},
   "outputs": [],
   "source": []
  }
 ],
 "metadata": {
  "colab": {
   "provenance": []
  },
  "kernelspec": {
   "display_name": "Python 3 (ipykernel)",
   "language": "python",
   "name": "python3"
  },
  "language_info": {
   "codemirror_mode": {
    "name": "ipython",
    "version": 3
   },
   "file_extension": ".py",
   "mimetype": "text/x-python",
   "name": "python",
   "nbconvert_exporter": "python",
   "pygments_lexer": "ipython3",
   "version": "3.11.3"
  }
 },
 "nbformat": 4,
 "nbformat_minor": 4
}
