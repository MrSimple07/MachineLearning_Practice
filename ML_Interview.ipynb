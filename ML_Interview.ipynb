{
  "nbformat": 4,
  "nbformat_minor": 0,
  "metadata": {
    "colab": {
      "provenance": [],
      "authorship_tag": "ABX9TyMTxXxTGpBpRYO+cuQ+xHPu",
      "include_colab_link": true
    },
    "kernelspec": {
      "name": "python3",
      "display_name": "Python 3"
    },
    "language_info": {
      "name": "python"
    }
  },
  "cells": [
    {
      "cell_type": "markdown",
      "metadata": {
        "id": "view-in-github",
        "colab_type": "text"
      },
      "source": [
        "<a href=\"https://colab.research.google.com/github/MrSimple07/MachineLearning_Practice/blob/main/ML_Interview.ipynb\" target=\"_parent\"><img src=\"https://colab.research.google.com/assets/colab-badge.svg\" alt=\"Open In Colab\"/></a>"
      ]
    },
    {
      "cell_type": "markdown",
      "source": [
        "1. What is Multilayer Perceptron (MLP) and Boltzmann Machine?\n",
        "*   MLP - one input, more hidden layers and one output\n",
        "* Feedforward Architecture. Information flows the network in one direction\n",
        "* MLPs are widely used for various tasks, including classification, regression, and pattern recognition.\n",
        "\n",
        "---\n",
        "\n",
        "\n",
        "  - Boltzman Machine is a simplified version of the MLP.\n",
        "  - 2 layer model with a visible input layer and a hidden layer which makes stocastic decision\n",
        "  - Boltzmann Machines and RBMs have been applied to various tasks, including dimensionality reduction, collaborative filtering, and feature learning."
      ],
      "metadata": {
        "id": "LNqGUVwHX2Cu"
      }
    },
    {
      "cell_type": "code",
      "execution_count": 4,
      "metadata": {
        "colab": {
          "base_uri": "https://localhost:8080/",
          "height": 1000
        },
        "id": "9C2Kj55PXxmf",
        "outputId": "79e8c0b0-3ee4-4beb-b5e8-f7d18177fb62"
      },
      "outputs": [
        {
          "output_type": "stream",
          "name": "stdout",
          "text": [
            "Epoch 1/50\n",
            "3/3 - 1s - loss: 1.2484 - accuracy: 0.0208 - val_loss: 1.2283 - val_accuracy: 0.0833 - 720ms/epoch - 240ms/step\n",
            "Epoch 2/50\n",
            "3/3 - 0s - loss: 1.1863 - accuracy: 0.0521 - val_loss: 1.1723 - val_accuracy: 0.1667 - 39ms/epoch - 13ms/step\n",
            "Epoch 3/50\n",
            "3/3 - 0s - loss: 1.1277 - accuracy: 0.2500 - val_loss: 1.1185 - val_accuracy: 0.3333 - 39ms/epoch - 13ms/step\n",
            "Epoch 4/50\n",
            "3/3 - 0s - loss: 1.0744 - accuracy: 0.4167 - val_loss: 1.0681 - val_accuracy: 0.4167 - 69ms/epoch - 23ms/step\n",
            "Epoch 5/50\n",
            "3/3 - 0s - loss: 1.0248 - accuracy: 0.4583 - val_loss: 1.0212 - val_accuracy: 0.4583 - 73ms/epoch - 24ms/step\n",
            "Epoch 6/50\n",
            "3/3 - 0s - loss: 0.9774 - accuracy: 0.5521 - val_loss: 0.9776 - val_accuracy: 0.5833 - 70ms/epoch - 23ms/step\n",
            "Epoch 7/50\n",
            "3/3 - 0s - loss: 0.9343 - accuracy: 0.6042 - val_loss: 0.9365 - val_accuracy: 0.8333 - 65ms/epoch - 22ms/step\n",
            "Epoch 8/50\n",
            "3/3 - 0s - loss: 0.8944 - accuracy: 0.7396 - val_loss: 0.8979 - val_accuracy: 0.8750 - 70ms/epoch - 23ms/step\n",
            "Epoch 9/50\n",
            "3/3 - 0s - loss: 0.8561 - accuracy: 0.7708 - val_loss: 0.8623 - val_accuracy: 0.8750 - 72ms/epoch - 24ms/step\n",
            "Epoch 10/50\n",
            "3/3 - 0s - loss: 0.8229 - accuracy: 0.7917 - val_loss: 0.8278 - val_accuracy: 0.8750 - 70ms/epoch - 23ms/step\n",
            "Epoch 11/50\n",
            "3/3 - 0s - loss: 0.7900 - accuracy: 0.7917 - val_loss: 0.7962 - val_accuracy: 0.8750 - 50ms/epoch - 17ms/step\n",
            "Epoch 12/50\n",
            "3/3 - 0s - loss: 0.7601 - accuracy: 0.7917 - val_loss: 0.7665 - val_accuracy: 0.8750 - 66ms/epoch - 22ms/step\n",
            "Epoch 13/50\n",
            "3/3 - 0s - loss: 0.7318 - accuracy: 0.8229 - val_loss: 0.7390 - val_accuracy: 0.8750 - 63ms/epoch - 21ms/step\n",
            "Epoch 14/50\n",
            "3/3 - 0s - loss: 0.7061 - accuracy: 0.8333 - val_loss: 0.7129 - val_accuracy: 0.8750 - 54ms/epoch - 18ms/step\n",
            "Epoch 15/50\n",
            "3/3 - 0s - loss: 0.6818 - accuracy: 0.8333 - val_loss: 0.6887 - val_accuracy: 0.8750 - 70ms/epoch - 23ms/step\n",
            "Epoch 16/50\n",
            "3/3 - 0s - loss: 0.6594 - accuracy: 0.8333 - val_loss: 0.6660 - val_accuracy: 0.8750 - 50ms/epoch - 17ms/step\n",
            "Epoch 17/50\n",
            "3/3 - 0s - loss: 0.6384 - accuracy: 0.8333 - val_loss: 0.6448 - val_accuracy: 0.8750 - 48ms/epoch - 16ms/step\n",
            "Epoch 18/50\n",
            "3/3 - 0s - loss: 0.6192 - accuracy: 0.8333 - val_loss: 0.6252 - val_accuracy: 0.8750 - 69ms/epoch - 23ms/step\n",
            "Epoch 19/50\n",
            "3/3 - 0s - loss: 0.6015 - accuracy: 0.8229 - val_loss: 0.6065 - val_accuracy: 0.8750 - 65ms/epoch - 22ms/step\n",
            "Epoch 20/50\n",
            "3/3 - 0s - loss: 0.5850 - accuracy: 0.8229 - val_loss: 0.5889 - val_accuracy: 0.8750 - 55ms/epoch - 18ms/step\n",
            "Epoch 21/50\n",
            "3/3 - 0s - loss: 0.5692 - accuracy: 0.8229 - val_loss: 0.5733 - val_accuracy: 0.8750 - 67ms/epoch - 22ms/step\n",
            "Epoch 22/50\n",
            "3/3 - 0s - loss: 0.5545 - accuracy: 0.8229 - val_loss: 0.5589 - val_accuracy: 0.8750 - 52ms/epoch - 17ms/step\n",
            "Epoch 23/50\n",
            "3/3 - 0s - loss: 0.5412 - accuracy: 0.8333 - val_loss: 0.5453 - val_accuracy: 0.8750 - 70ms/epoch - 23ms/step\n",
            "Epoch 24/50\n",
            "3/3 - 0s - loss: 0.5288 - accuracy: 0.8333 - val_loss: 0.5318 - val_accuracy: 0.8750 - 47ms/epoch - 16ms/step\n",
            "Epoch 25/50\n",
            "3/3 - 0s - loss: 0.5164 - accuracy: 0.8438 - val_loss: 0.5208 - val_accuracy: 0.8750 - 60ms/epoch - 20ms/step\n",
            "Epoch 26/50\n",
            "3/3 - 0s - loss: 0.5054 - accuracy: 0.8438 - val_loss: 0.5097 - val_accuracy: 0.9167 - 68ms/epoch - 23ms/step\n",
            "Epoch 27/50\n",
            "3/3 - 0s - loss: 0.4953 - accuracy: 0.8542 - val_loss: 0.4996 - val_accuracy: 0.9167 - 54ms/epoch - 18ms/step\n",
            "Epoch 28/50\n",
            "3/3 - 0s - loss: 0.4853 - accuracy: 0.8542 - val_loss: 0.4892 - val_accuracy: 0.9167 - 55ms/epoch - 18ms/step\n",
            "Epoch 29/50\n",
            "3/3 - 0s - loss: 0.4758 - accuracy: 0.8542 - val_loss: 0.4801 - val_accuracy: 0.9167 - 69ms/epoch - 23ms/step\n",
            "Epoch 30/50\n",
            "3/3 - 0s - loss: 0.4669 - accuracy: 0.8542 - val_loss: 0.4715 - val_accuracy: 0.9167 - 71ms/epoch - 24ms/step\n",
            "Epoch 31/50\n",
            "3/3 - 0s - loss: 0.4584 - accuracy: 0.8542 - val_loss: 0.4633 - val_accuracy: 0.9167 - 63ms/epoch - 21ms/step\n",
            "Epoch 32/50\n",
            "3/3 - 0s - loss: 0.4504 - accuracy: 0.8542 - val_loss: 0.4561 - val_accuracy: 0.9167 - 67ms/epoch - 22ms/step\n",
            "Epoch 33/50\n",
            "3/3 - 0s - loss: 0.4424 - accuracy: 0.8542 - val_loss: 0.4488 - val_accuracy: 0.9167 - 67ms/epoch - 22ms/step\n",
            "Epoch 34/50\n",
            "3/3 - 0s - loss: 0.4353 - accuracy: 0.8542 - val_loss: 0.4419 - val_accuracy: 0.9167 - 72ms/epoch - 24ms/step\n",
            "Epoch 35/50\n",
            "3/3 - 0s - loss: 0.4281 - accuracy: 0.8542 - val_loss: 0.4353 - val_accuracy: 0.9167 - 67ms/epoch - 22ms/step\n",
            "Epoch 36/50\n",
            "3/3 - 0s - loss: 0.4212 - accuracy: 0.8542 - val_loss: 0.4290 - val_accuracy: 0.9167 - 70ms/epoch - 23ms/step\n",
            "Epoch 37/50\n",
            "3/3 - 0s - loss: 0.4148 - accuracy: 0.8854 - val_loss: 0.4222 - val_accuracy: 0.9167 - 70ms/epoch - 23ms/step\n",
            "Epoch 38/50\n",
            "3/3 - 0s - loss: 0.4086 - accuracy: 0.8854 - val_loss: 0.4159 - val_accuracy: 0.9167 - 50ms/epoch - 17ms/step\n",
            "Epoch 39/50\n",
            "3/3 - 0s - loss: 0.4025 - accuracy: 0.8854 - val_loss: 0.4104 - val_accuracy: 0.9167 - 68ms/epoch - 23ms/step\n",
            "Epoch 40/50\n",
            "3/3 - 0s - loss: 0.3966 - accuracy: 0.8854 - val_loss: 0.4052 - val_accuracy: 0.9167 - 67ms/epoch - 22ms/step\n",
            "Epoch 41/50\n",
            "3/3 - 0s - loss: 0.3909 - accuracy: 0.8854 - val_loss: 0.3999 - val_accuracy: 0.9167 - 66ms/epoch - 22ms/step\n",
            "Epoch 42/50\n",
            "3/3 - 0s - loss: 0.3857 - accuracy: 0.8854 - val_loss: 0.3943 - val_accuracy: 0.9167 - 71ms/epoch - 24ms/step\n",
            "Epoch 43/50\n",
            "3/3 - 0s - loss: 0.3805 - accuracy: 0.8854 - val_loss: 0.3895 - val_accuracy: 0.9167 - 64ms/epoch - 21ms/step\n",
            "Epoch 44/50\n",
            "3/3 - 0s - loss: 0.3753 - accuracy: 0.8854 - val_loss: 0.3839 - val_accuracy: 0.9167 - 55ms/epoch - 18ms/step\n",
            "Epoch 45/50\n",
            "3/3 - 0s - loss: 0.3703 - accuracy: 0.8854 - val_loss: 0.3800 - val_accuracy: 0.9167 - 70ms/epoch - 23ms/step\n",
            "Epoch 46/50\n",
            "3/3 - 0s - loss: 0.3654 - accuracy: 0.8750 - val_loss: 0.3750 - val_accuracy: 0.9167 - 53ms/epoch - 18ms/step\n",
            "Epoch 47/50\n",
            "3/3 - 0s - loss: 0.3605 - accuracy: 0.8750 - val_loss: 0.3705 - val_accuracy: 0.9167 - 73ms/epoch - 24ms/step\n",
            "Epoch 48/50\n",
            "3/3 - 0s - loss: 0.3565 - accuracy: 0.8750 - val_loss: 0.3665 - val_accuracy: 0.9167 - 65ms/epoch - 22ms/step\n",
            "Epoch 49/50\n",
            "3/3 - 0s - loss: 0.3515 - accuracy: 0.8750 - val_loss: 0.3618 - val_accuracy: 0.9167 - 65ms/epoch - 22ms/step\n",
            "Epoch 50/50\n",
            "3/3 - 0s - loss: 0.3473 - accuracy: 0.8750 - val_loss: 0.3573 - val_accuracy: 0.9167 - 67ms/epoch - 22ms/step\n"
          ]
        },
        {
          "output_type": "error",
          "ename": "AttributeError",
          "evalue": "'Sequential' object has no attribute 'predict_classes'",
          "traceback": [
            "\u001b[0;31m---------------------------------------------------------------------------\u001b[0m",
            "\u001b[0;31mAttributeError\u001b[0m                            Traceback (most recent call last)",
            "\u001b[0;32m<ipython-input-4-33ec2f7a4ccb>\u001b[0m in \u001b[0;36m<cell line: 28>\u001b[0;34m()\u001b[0m\n\u001b[1;32m     26\u001b[0m \u001b[0mmodel\u001b[0m\u001b[0;34m.\u001b[0m\u001b[0mfit\u001b[0m\u001b[0;34m(\u001b[0m\u001b[0mX_train\u001b[0m\u001b[0;34m,\u001b[0m \u001b[0my_train\u001b[0m\u001b[0;34m,\u001b[0m \u001b[0mepochs\u001b[0m\u001b[0;34m=\u001b[0m\u001b[0;36m50\u001b[0m\u001b[0;34m,\u001b[0m \u001b[0mbatch_size\u001b[0m\u001b[0;34m=\u001b[0m\u001b[0;36m32\u001b[0m\u001b[0;34m,\u001b[0m \u001b[0mvalidation_split\u001b[0m\u001b[0;34m=\u001b[0m\u001b[0;36m0.2\u001b[0m\u001b[0;34m,\u001b[0m \u001b[0mverbose\u001b[0m\u001b[0;34m=\u001b[0m\u001b[0;36m2\u001b[0m\u001b[0;34m)\u001b[0m\u001b[0;34m\u001b[0m\u001b[0;34m\u001b[0m\u001b[0m\n\u001b[1;32m     27\u001b[0m \u001b[0;34m\u001b[0m\u001b[0m\n\u001b[0;32m---> 28\u001b[0;31m \u001b[0my_pred\u001b[0m \u001b[0;34m=\u001b[0m \u001b[0mmodel\u001b[0m\u001b[0;34m.\u001b[0m\u001b[0mpredict_classes\u001b[0m\u001b[0;34m(\u001b[0m\u001b[0mX_test\u001b[0m\u001b[0;34m)\u001b[0m\u001b[0;34m\u001b[0m\u001b[0;34m\u001b[0m\u001b[0m\n\u001b[0m\u001b[1;32m     29\u001b[0m \u001b[0;34m\u001b[0m\u001b[0m\n\u001b[1;32m     30\u001b[0m \u001b[0;31m# Evaluate the performance\u001b[0m\u001b[0;34m\u001b[0m\u001b[0;34m\u001b[0m\u001b[0m\n",
            "\u001b[0;31mAttributeError\u001b[0m: 'Sequential' object has no attribute 'predict_classes'"
          ]
        }
      ],
      "source": [
        "import tensorflow as tf\n",
        "from tensorflow.keras.models import Sequential\n",
        "from tensorflow.keras.layers import Dense\n",
        "from sklearn.model_selection import train_test_split\n",
        "from sklearn.datasets import load_iris\n",
        "from sklearn.preprocessing import StandardScaler\n",
        "from sklearn.metrics import accuracy_score\n",
        "\n",
        "\n",
        "iris = load_iris()\n",
        "X,y = iris.data, iris.target\n",
        "X_train, X_test, y_train, y_test = train_test_split(X, y, test_size=0.2, random_state=42)\n",
        "\n",
        "scaler = StandardScaler()\n",
        "X_train = scaler.fit_transform(X_train)\n",
        "X_test = scaler.transform(X_test)\n",
        "\n",
        "# Build the MLP model\n",
        "model = Sequential([\n",
        "    Dense(64, activation='relu', input_shape=(X_train.shape[1],)),\n",
        "    Dense(3, activation='softmax')\n",
        "])\n",
        "\n",
        "model.compile(optimizer='adam', loss='sparse_categorical_crossentropy', metrics=['accuracy'])\n",
        "\n",
        "model.fit(X_train, y_train, epochs=50, batch_size=32, validation_split=0.2, verbose=2)\n",
        "\n",
        "y_pred = model.predict_classes(X_test)\n",
        "\n",
        "# Evaluate the performance\n",
        "accuracy = accuracy_score(y_test, y_pred)\n",
        "print(\"MLP Accuracy:\", accuracy)\n"
      ]
    },
    {
      "cell_type": "code",
      "source": [],
      "metadata": {
        "id": "QGygEQrpaiTH"
      },
      "execution_count": null,
      "outputs": []
    }
  ]
}