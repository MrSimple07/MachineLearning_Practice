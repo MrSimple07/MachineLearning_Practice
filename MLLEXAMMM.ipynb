{
  "nbformat": 4,
  "nbformat_minor": 0,
  "metadata": {
    "colab": {
      "provenance": [],
      "authorship_tag": "ABX9TyN/Vbm75HdcPWaAchSNXLTJ",
      "include_colab_link": true
    },
    "kernelspec": {
      "name": "python3",
      "display_name": "Python 3"
    },
    "language_info": {
      "name": "python"
    }
  },
  "cells": [
    {
      "cell_type": "markdown",
      "metadata": {
        "id": "view-in-github",
        "colab_type": "text"
      },
      "source": [
        "<a href=\"https://colab.research.google.com/github/MrSimple07/MachineLearning_Practice/blob/main/MLLEXAMMM.ipynb\" target=\"_parent\"><img src=\"https://colab.research.google.com/assets/colab-badge.svg\" alt=\"Open In Colab\"/></a>"
      ]
    },
    {
      "cell_type": "code",
      "execution_count": null,
      "metadata": {
        "id": "ZqoDdSDfF6zU"
      },
      "outputs": [],
      "source": [
        "import pandas as pd\n",
        "import numpy as np\n",
        "import matplotlib.pyplot as plt\n",
        "from sklearn.model_selection import train_test_split"
      ]
    },
    {
      "cell_type": "code",
      "source": [
        "df_train = pd.read_csv(\"https://courses.openedu.ru/assets/courseware/v1/838cc1ef270a3f427c5e7c9dc9794b3f/asset-v1:ITMOUniversity+INTROMLADVMLENG+fall_2023_ITMO_mag+type@asset+block/MNIST_train.csv.zip\")\n",
        "df_train.shape\n",
        "\n",
        "df_test = pd.read_csv('https://courses.openedu.ru/assets/courseware/v1/ecb6d50f22d46e360948424d398c16d9/asset-v1:ITMOUniversity+INTROMLADVMLENG+fall_2023_ITMO_mag+type@asset+block/MNIST_test.csv.zip')\n",
        "df_test.shape"
      ],
      "metadata": {
        "colab": {
          "base_uri": "https://localhost:8080/"
        },
        "id": "ZvjCFb-EF-e2",
        "outputId": "6130be45-b8f7-4cf0-bc10-872b8494ad35"
      },
      "execution_count": null,
      "outputs": [
        {
          "output_type": "execute_result",
          "data": {
            "text/plain": [
              "(10000, 785)"
            ]
          },
          "metadata": {},
          "execution_count": 3
        }
      ]
    },
    {
      "cell_type": "code",
      "source": [
        "#NEW\n",
        "\n",
        "\n",
        "from sklearn.decomposition import PCA\n",
        "from sklearn.ensemble import GradientBoostingClassifier\n",
        "from sklearn.metrics import classification_report, confusion_matrix, accuracy_score\n",
        "\n",
        "X_train_original = df_train[df_train['label'].isin([0, 1])].drop(columns=['label'])\n",
        "y_train = df_train[df_train['label'].isin([0, 1])]['label']\n",
        "\n",
        "X_test_original = df_test[df_test['label'].isin([0, 1])].drop(columns=['label'])\n",
        "y_test = df_test[df_test['label'].isin([0, 1])]['label']\n",
        "\n",
        "pca = PCA(svd_solver='full')\n",
        "pca.fit(X_train_original)\n",
        "\n",
        "X_train_scaled = pca.transform(X_train_original)\n",
        "X_test_scaled = pca.transform(X_test_original)\n",
        "\n",
        "cum_sum = np.cumsum(pca.explained_variance_ratio_)\n",
        "threshold = 0.9\n",
        "num_components = np.argmax(cum_sum > threshold) + 1\n",
        "\n",
        "print( num_components)\n",
        "\n",
        "GBoosting = GradientBoostingClassifier(n_estimators=500, learning_rate=0.8, random_state=23, max_depth=2)\n",
        "GBoosting.fit(X_train_scaled, y_train)\n",
        "\n",
        "\n",
        "y_pred = GBoosting.predict(X_test_scaled)\n",
        "\n",
        "\n",
        "cr = classification_report(y_test, y_pred)\n",
        "cm = confusion_matrix(y_test, y_pred)\n",
        "accuracy = accuracy_score(y_test, y_pred)\n",
        "\n",
        "print(cr)\n",
        "print(\"Accuracy:\", accuracy)\n",
        "print(\"Confusion Matrix:\\n\", cm)\n"
      ],
      "metadata": {
        "colab": {
          "base_uri": "https://localhost:8080/"
        },
        "id": "fr7Om2eXGBm2",
        "outputId": "d64af959-96ad-4b1d-d668-a7c8b8b64532"
      },
      "execution_count": null,
      "outputs": [
        {
          "output_type": "stream",
          "name": "stdout",
          "text": [
            "49\n",
            "              precision    recall  f1-score   support\n",
            "\n",
            "           0       1.00      0.99      1.00       980\n",
            "           1       1.00      1.00      1.00      1135\n",
            "\n",
            "    accuracy                           1.00      2115\n",
            "   macro avg       1.00      1.00      1.00      2115\n",
            "weighted avg       1.00      1.00      1.00      2115\n",
            "\n",
            "Accuracy: 0.9962174940898345\n",
            "Confusion Matrix:\n",
            " [[ 975    5]\n",
            " [   3 1132]]\n"
          ]
        }
      ]
    },
    {
      "cell_type": "code",
      "source": [
        "\n",
        "\n",
        "from sklearn.decomposition import PCA\n",
        "from sklearn.ensemble import GradientBoostingClassifier\n",
        "from sklearn.metrics import classification_report, confusion_matrix, accuracy_score\n",
        "\n",
        "X_train_original = df_train[df_train['label'].isin([0, 1])].drop(columns=['label'])\n",
        "y_train = df_train[df_train['label'].isin([0, 1])]['label']\n",
        "\n",
        "X_test_original = df_test[df_test['label'].isin([0, 1])].drop(columns=['label'])\n",
        "y_test = df_test[df_test['label'].isin([0, 1])]['label']\n",
        "\n",
        "pca = PCA(0.9, svd_solver='full')\n",
        "pca.fit(X_train_original)\n",
        "\n",
        "X_train_scaled = pca.transform(X_train_original)\n",
        "X_test_scaled = pca.transform(X_test_original)\n",
        "\n",
        "cum_sum = np.cumsum(pca.explained_variance_ratio_)\n",
        "threshold = 0.9\n",
        "num_components = np.argmax(cum_sum > threshold) + 1\n",
        "\n",
        "print( num_components)\n"
      ],
      "metadata": {
        "id": "fLbcvGiAGFV7",
        "colab": {
          "base_uri": "https://localhost:8080/"
        },
        "outputId": "7719038f-36c9-40ee-b274-8f897424c245"
      },
      "execution_count": null,
      "outputs": [
        {
          "output_type": "stream",
          "name": "stdout",
          "text": [
            "49\n"
          ]
        }
      ]
    },
    {
      "cell_type": "code",
      "source": [
        "GBoosting = GradientBoostingClassifier(n_estimators=500, learning_rate=0.8, random_state=23, max_depth=2)\n",
        "GBoosting.fit(X_train_scaled, y_train)\n",
        "\n",
        "\n",
        "y_pred = GBoosting.predict(X_test_scaled)\n",
        "\n",
        "\n",
        "cr = classification_report(y_test, y_pred)\n",
        "cm = confusion_matrix(y_test, y_pred)\n",
        "accuracy = accuracy_score(y_test, y_pred)\n",
        "\n",
        "print(cr)\n",
        "print(\"Accuracy:\", accuracy)\n",
        "print(\"Confusion Matrix:\\n\", cm)\n"
      ],
      "metadata": {
        "colab": {
          "base_uri": "https://localhost:8080/"
        },
        "id": "Nzb-s6BIx2PM",
        "outputId": "46c4bde4-aa31-4648-cbff-ac170d5201c1"
      },
      "execution_count": null,
      "outputs": [
        {
          "output_type": "stream",
          "name": "stdout",
          "text": [
            "              precision    recall  f1-score   support\n",
            "\n",
            "           0       1.00      1.00      1.00       980\n",
            "           1       1.00      1.00      1.00      1135\n",
            "\n",
            "    accuracy                           1.00      2115\n",
            "   macro avg       1.00      1.00      1.00      2115\n",
            "weighted avg       1.00      1.00      1.00      2115\n",
            "\n",
            "Accuracy: 0.9990543735224586\n",
            "Confusion Matrix:\n",
            " [[ 979    1]\n",
            " [   1 1134]]\n"
          ]
        }
      ]
    },
    {
      "cell_type": "code",
      "source": [],
      "metadata": {
        "id": "LNK_apuUyEQs"
      },
      "execution_count": null,
      "outputs": []
    }
  ]
}