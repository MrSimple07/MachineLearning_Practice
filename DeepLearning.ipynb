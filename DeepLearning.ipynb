{
  "nbformat": 4,
  "nbformat_minor": 0,
  "metadata": {
    "colab": {
      "provenance": [],
      "authorship_tag": "ABX9TyMPOTq0MzgOrPtuvEJXAgZ5",
      "include_colab_link": true
    },
    "kernelspec": {
      "name": "python3",
      "display_name": "Python 3"
    },
    "language_info": {
      "name": "python"
    }
  },
  "cells": [
    {
      "cell_type": "markdown",
      "metadata": {
        "id": "view-in-github",
        "colab_type": "text"
      },
      "source": [
        "<a href=\"https://colab.research.google.com/github/MrSimple07/MachineLearning_Practice/blob/main/DeepLearning.ipynb\" target=\"_parent\"><img src=\"https://colab.research.google.com/assets/colab-badge.svg\" alt=\"Open In Colab\"/></a>"
      ]
    },
    {
      "cell_type": "markdown",
      "source": [
        "Basic PyTorch"
      ],
      "metadata": {
        "id": "AYcNSb7ZVLuG"
      }
    },
    {
      "cell_type": "code",
      "execution_count": null,
      "metadata": {
        "id": "rKmxZJMvSuP9"
      },
      "outputs": [],
      "source": [
        "import torch\n",
        "import torch.nn as nn\n",
        "import torch.optim as optim\n",
        "import numpy as np\n",
        "import matplotlib.pyplot as plt"
      ]
    },
    {
      "cell_type": "code",
      "source": [
        "import torch\n",
        "import torch.nn as nn\n",
        "import torch.optim as optim\n",
        "import numpy as np\n",
        "import matplotlib.pyplot as plt\n",
        "\n",
        "# Step 1: Generate synthetic data\n",
        "np.random.seed(42)\n",
        "X = np.random.rand(100, 1)\n",
        "y = 2 * X + 1 + 0.1 * np.random.randn(100, 1)\n",
        "\n",
        "# Step 2: Convert data to PyTorch tensors\n",
        "X_tensor = torch.tensor(X, dtype=torch.float32)\n",
        "y_tensor = torch.tensor(y, dtype=torch.float32)\n",
        "\n",
        "# Step 3: Define a simple linear regression model\n",
        "class LinearRegressionModel(nn.Module):\n",
        "    def __init__(self):\n",
        "        super(LinearRegressionModel, self).__init__()\n",
        "        self.linear = nn.Linear(1, 1)  # One input feature, one output\n",
        "\n",
        "    def forward(self, x):\n",
        "        return self.linear(x)\n",
        "\n",
        "# Step 4: Instantiate the model, loss function, and optimizer\n",
        "model = LinearRegressionModel()\n",
        "criterion = nn.MSELoss()\n",
        "optimizer = optim.SGD(model.parameters(), lr=0.01)\n",
        "\n",
        "# Step 5: Training the model\n",
        "num_epochs = 1000\n",
        "for epoch in range(num_epochs):\n",
        "    # Forward pass\n",
        "    outputs = model(X_tensor)\n",
        "    loss = criterion(outputs, y_tensor)\n",
        "\n",
        "    # Backward pass and optimization\n",
        "    optimizer.zero_grad()\n",
        "    loss.backward()\n",
        "    optimizer.step()\n",
        "\n",
        "    if (epoch + 1) % 100 == 0:\n",
        "        print(f'Epoch [{epoch+1}/{num_epochs}], Loss: {loss.item():.4f}')\n",
        "\n",
        "# Step 6: Plot the results\n",
        "predicted = model(X_tensor).detach().numpy()\n",
        "\n",
        "plt.scatter(X, y, label='Original data')\n",
        "plt.plot(X, predicted, label='Fitted line', color='red')\n",
        "plt.legend()\n",
        "plt.show()\n"
      ],
      "metadata": {
        "colab": {
          "base_uri": "https://localhost:8080/",
          "height": 604
        },
        "id": "e-4V5KTMVWxk",
        "outputId": "22f21df2-06b6-4b79-979e-af08c9d7dd64"
      },
      "execution_count": null,
      "outputs": [
        {
          "output_type": "stream",
          "name": "stdout",
          "text": [
            "Epoch [100/1000], Loss: 0.1796\n",
            "Epoch [200/1000], Loss: 0.0960\n",
            "Epoch [300/1000], Loss: 0.0740\n",
            "Epoch [400/1000], Loss: 0.0577\n",
            "Epoch [500/1000], Loss: 0.0455\n",
            "Epoch [600/1000], Loss: 0.0363\n",
            "Epoch [700/1000], Loss: 0.0293\n",
            "Epoch [800/1000], Loss: 0.0241\n",
            "Epoch [900/1000], Loss: 0.0201\n",
            "Epoch [1000/1000], Loss: 0.0171\n"
          ]
        },
        {
          "output_type": "display_data",
          "data": {
            "text/plain": [
              "<Figure size 640x480 with 1 Axes>"
            ],
            "image/png": "[encoded data removed]"
          },
          "metadata": {}
        }
      ]
    },
    {
      "cell_type": "markdown",
      "source": [
        "## Tensorflow"
      ],
      "metadata": {
        "id": "408kvjKvho6M"
      }
    },
    {
      "cell_type": "code",
      "source": [
        "import tensorflow as tf\n",
        "from sklearn.datasets import make_classification\n",
        "from sklearn.model_selection import train_test_split\n",
        "from keras.utils import plot_model\n",
        "from keras.models import Sequential\n",
        "from keras.layers import Dense, SimpleRNN\n",
        "from keras.optimizers import Adam, SGD\n",
        "\n",
        "X,y = make_classification(n_samples = 300, n_features = 20)\n",
        "\n",
        "X_train, X_test, y_train, y_test = train_test_split(X,y, test_size = 0.2)\n",
        "\n",
        "model = Sequential()\n",
        "model.add(Dense(10, input_dim = 20, activation = 'relu'))\n",
        "model.add(Dense(1, activation = 'sigmoid'))\n",
        "\n",
        "adam_optimizer = Adam(learning_rate = 0.01)\n",
        "model.compile(optimizer = adam_optimizer,loss = 'binary_crossentropy', metrics ='accuracy')\n",
        "\n",
        "model.fit(X_train, y_train, epochs = 10, batch_size = 32)"
      ],
      "metadata": {
        "id": "6fqkoFERW7s7",
        "outputId": "74a202b3-78b4-4076-e1f0-d9001a4fb77c",
        "colab": {
          "base_uri": "https://localhost:8080/"
        }
      },
      "execution_count": 4,
      "outputs": [
        {
          "output_type": "stream",
          "name": "stdout",
          "text": [
            "Epoch 1/10\n",
            "8/8 [==============================] - 2s 6ms/step - loss: 0.5375 - accuracy: 0.7250\n",
            "Epoch 2/10\n",
            "8/8 [==============================] - 0s 6ms/step - loss: 0.4207 - accuracy: 0.8292\n",
            "Epoch 3/10\n",
            "8/8 [==============================] - 0s 4ms/step - loss: 0.3472 - accuracy: 0.8708\n",
            "Epoch 4/10\n",
            "8/8 [==============================] - 0s 3ms/step - loss: 0.2953 - accuracy: 0.8917\n",
            "Epoch 5/10\n",
            "8/8 [==============================] - 0s 3ms/step - loss: 0.2593 - accuracy: 0.8958\n",
            "Epoch 6/10\n",
            "8/8 [==============================] - 0s 3ms/step - loss: 0.2377 - accuracy: 0.8958\n",
            "Epoch 7/10\n",
            "8/8 [==============================] - 0s 4ms/step - loss: 0.2194 - accuracy: 0.9083\n",
            "Epoch 8/10\n",
            "8/8 [==============================] - 0s 4ms/step - loss: 0.2078 - accuracy: 0.9167\n",
            "Epoch 9/10\n",
            "8/8 [==============================] - 0s 4ms/step - loss: 0.1980 - accuracy: 0.9250\n",
            "Epoch 10/10\n",
            "8/8 [==============================] - 0s 4ms/step - loss: 0.1882 - accuracy: 0.9292\n"
          ]
        },
        {
          "output_type": "execute_result",
          "data": {
            "text/plain": [
              "<keras.src.callbacks.History at 0x79f1c38d9750>"
            ]
          },
          "metadata": {},
          "execution_count": 4
        }
      ]
    },
    {
      "cell_type": "code",
      "source": [],
      "metadata": {
        "id": "y2ans0x9iqbr"
      },
      "execution_count": null,
      "outputs": []
    }
  ]
}