{
  "nbformat": 4,
  "nbformat_minor": 0,
  "metadata": {
    "colab": {
      "provenance": [],
      "authorship_tag": "ABX9TyNtNtFlfhXUE0azZx/nCt5P",
      "include_colab_link": true
    },
    "kernelspec": {
      "name": "python3",
      "display_name": "Python 3"
    },
    "language_info": {
      "name": "python"
    }
  },
  "cells": [
    {
      "cell_type": "markdown",
      "metadata": {
        "id": "view-in-github",
        "colab_type": "text"
      },
      "source": [
        "<a href=\"https://colab.research.google.com/github/MrSimple07/MachineLearning_Practice/blob/main/RandomML.ipynb\" target=\"_parent\"><img src=\"https://colab.research.google.com/assets/colab-badge.svg\" alt=\"Open In Colab\"/></a>"
      ]
    },
    {
      "cell_type": "markdown",
      "source": [
        "5-fold and 10-fold Cross Validation\n",
        "Divides into 5-10 equal subsets."
      ],
      "metadata": {
        "id": "1r55lZ-7ahuc"
      }
    },
    {
      "cell_type": "code",
      "execution_count": 2,
      "metadata": {
        "id": "V-LZOJ4IaJw5"
      },
      "outputs": [],
      "source": [
        "import numpy as np\n",
        "import pandas as pd\n",
        "from sklearn.model_selection import cross_val_score, KFold\n",
        "from sklearn.ensemble import RandomForestClassifier\n",
        "from sklearn.datasets import make_classification\n",
        "from sklearn.model_selection import train_test_split"
      ]
    },
    {
      "cell_type": "code",
      "source": [
        "X, y = make_classification(n_samples = 1000, n_features= 20, random_state =42)\n",
        "\n",
        "# 5 Fold CV\n",
        "rf = RandomForestClassifier(n_estimators =100, random_state =42)\n",
        "cv_5fold = KFold(n_splits = 5, shuffle = True, random_state =42)\n",
        "scores_5fold = cross_val_score(rf, X,y, cv = cv_5fold, scoring = 'accuracy')\n",
        "\n",
        "max_5fold = np.max(scores_5fold)\n",
        "\n",
        "print(scores_5fold)\n",
        "print(max_5fold)\n",
        "\n",
        "\n",
        "#10 fold CV\n",
        "rf = RandomForestClassifier(n_estimators =100, random_state =42)\n",
        "cv_10fold = KFold(n_splits = 10, shuffle = True, random_state =42)\n",
        "scores_10fold = cross_val_score(rf, X,y, cv = cv_10fold, scoring = 'accuracy')\n",
        "\n",
        "print(scores_10fold)"
      ],
      "metadata": {
        "colab": {
          "base_uri": "https://localhost:8080/"
        },
        "id": "pdzCox-1a29b",
        "outputId": "0a8622dc-2b46-4b2a-e44a-27d533cb612e"
      },
      "execution_count": 5,
      "outputs": [
        {
          "output_type": "stream",
          "name": "stdout",
          "text": [
            "[0.895 0.86  0.935 0.88  0.925]\n",
            "0.935\n",
            "[0.88 0.91 0.81 0.93 0.92 0.94 0.88 0.86 0.94 0.89]\n"
          ]
        }
      ]
    },
    {
      "cell_type": "code",
      "source": [],
      "metadata": {
        "id": "mGQAvq7obf4s"
      },
      "execution_count": null,
      "outputs": []
    }
  ]
}